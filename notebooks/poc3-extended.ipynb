{
 "cells": [
  {
   "cell_type": "code",
   "execution_count": 25,
   "metadata": {
    "collapsed": true
   },
   "outputs": [],
   "source": [
    "import cv2\n",
    "import numpy as np\n",
    "import os, csv"
   ]
  },
  {
   "cell_type": "code",
   "execution_count": 26,
   "metadata": {
    "collapsed": true
   },
   "outputs": [],
   "source": [
    "def scale_range(input, min, max):\n",
    "    input += -(np.min(input))\n",
    "    input /= np.max(input) / (max - min)\n",
    "    input += min\n",
    "    return input"
   ]
  },
  {
   "cell_type": "code",
   "execution_count": 27,
   "metadata": {
    "collapsed": true
   },
   "outputs": [],
   "source": [
    "def avg(arr):\n",
    "    return np.average(arr)"
   ]
  },
  {
   "cell_type": "code",
   "execution_count": 40,
   "metadata": {},
   "outputs": [],
   "source": [
    "def read_files():\n",
    "    file_names = list()\n",
    "    GLF, SGR, VI_GREEN, RGR = [],[],[],[]\n",
    "    chloro_results = list()\n",
    "    nitro_results = list()\n",
    "    leaf_areas = list()\n",
    "    for dirpath, dirnames, filenames in os.walk(\".\"):\n",
    "        for filenames in [f for f in filenames if f.endswith(('.JPG','.jpg','.png'))]:\n",
    "            #print(filenames)\n",
    "            img=cv2.imread(filenames)\n",
    "            #print('Image size {}'.format(img.size))\n",
    "            \n",
    "            [r,c,l] = img.shape\n",
    "            #print(r)\n",
    "            #print(c)\n",
    "            #print(l)\n",
    "                \n",
    "            R = img[:,:,2]\n",
    "            G = img[:,:,1]\n",
    "            B = img[:,:,0]\n",
    "            #print(R,G,B)\n",
    "            #print(filenames)\n",
    "            \n",
    "            # Chrolophyll content calculation\n",
    "            for i in np.arange(1,r).reshape(-1):\n",
    "                for j in np.arange(1,c).reshape(-1):\n",
    "                    if B[i,j] > 90:\n",
    "                        R[i,j]=0\n",
    "                        G[i,j]=0\n",
    "                        B[i,j]=0\n",
    "\n",
    "            R1=np.mean(R)\n",
    "            G1=np.mean(G)\n",
    "            B1=np.mean(B)\n",
    "\n",
    "            chloro = G1 - (R1 / 2) - (B1 / 2)\n",
    "            print('Red Channel mean is:',round(R1))\n",
    "            print('Green Channel mean is:',round(G1))\n",
    "            print('Blue Channel mean is:',round(B1))\n",
    "            print('Chrolophyll content is:',round(chloro))\n",
    "\n",
    "\n",
    "            # Nitrogen content calculation\n",
    "            R_avg = np.mean(R) / 255\n",
    "            G_avg = np.mean(G) / 255\n",
    "            B_avg = np.mean(B) / 255\n",
    "            maxi = np.max((R_avg,G_avg,B_avg))\n",
    "            mini = np.min((R_avg,G_avg,B_avg))\n",
    "\n",
    "            if maxi == R_avg:\n",
    "                H = np.dot(((G_avg - B_avg) / (maxi -  mini)), 60)\n",
    "            if maxi == G_avg:\n",
    "                H=np.dot((((B_avg - R_avg) / (maxi - mini)) + 2),60)\n",
    "            if maxi == B_avg:\n",
    "                H=np.dot((((R_avg - G_avg) / (maxi - mini)) + 4),60)\n",
    "\n",
    "            S=(maxi - mini) / maxi\n",
    "            B=maxi.copy()\n",
    "            nitro=((H - 60) / 60 + (1 - S) + (1 - B)) / 3\n",
    "            print('Nitrogen Content is:',nitro)\n",
    "\n",
    "            # for leaf area perform transformation & calculation as in PYM research paper\n",
    "\n",
    "            h, w = img[:,:,0].shape # get original image shape\n",
    "            print(h)\n",
    "            print(w)\n",
    "            pym = np.zeros((h, w),np.int) # blank b/w image for storing pym image\n",
    "            red = np.zeros((h, w),np.int) # blank array for red\n",
    "            blue = np.zeros((h, w),np.int) # blank array for blue\n",
    "\n",
    "            # Specific channels\n",
    "            red = (img[:,:,2]).astype('float') # reading red channel from original image (NIR)\n",
    "            blue = (img[:,:,0]).astype('float') # reading blue channel from original image (blue)\n",
    "\n",
    "            # PYM calculation\n",
    "            max_sc = np.amax(red - blue/2)\n",
    "            pym = ((red - blue/2)*255/max_sc).astype('uint8') # computing new channel\n",
    "\n",
    "            pym[red - blue/2 < 0] = 0 # setting limit\n",
    "\n",
    "            '''\n",
    "            # False color image\n",
    "            False_color_image = np.zeros((r, c,3),np.uint8) # make a blank RGB image \n",
    "            False_color_image[:,:,1] = pym\n",
    "            False_color_image[:,:,2] = 255 - pym\n",
    "\n",
    "            #f_image = \"FALSE_COLOR_\" + filename \n",
    "            #f_dest = \"FALSE_COLOR/\" + f_image \n",
    "            #cv2.imwrite(f_dest, False_color_image) \n",
    "            \n",
    "            #print('pym: {}'.format(pym))\n",
    "            '''\n",
    "            \n",
    "            # Image analysis\n",
    "\n",
    "            ret,thresh1 = cv2.threshold(pym, 0, 255, cv2.THRESH_OTSU) # OTSU's thresholding  #pym\n",
    "            kernel_open = np.ones((6,6),np.uint8) # large kernel\n",
    "            kernel_mid = np.ones((4,4),np.uint8) # medium kernel\n",
    "            kernel_close = np.ones((2,2),np.uint8) # small kernel\n",
    "            kernel_veryclose = np.ones((1,1),np.uint8) # tiny petit\n",
    "\n",
    "            erosion = cv2.erode(thresh1, kernel_veryclose,iterations = 1) # edge erosion\n",
    "            opening = cv2.morphologyEx(erosion, cv2.MORPH_OPEN, kernel_open) # removing noise around the plant\n",
    "            closing = cv2.morphologyEx(opening, cv2.MORPH_CLOSE, kernel_mid) # removing noise inside the plant\n",
    "            #contours, hierarchy = cv2.findContours(closing,cv2.RETR_TREE,cv2.CHAIN_APPROX_SIMPLE) # finding plant contours\n",
    "            aa, contours, hierarchy = cv2.findContours(closing,cv2.RETR_TREE,cv2.CHAIN_APPROX_SIMPLE) # with an older version of opencv\n",
    "            '''\n",
    "            area = []\n",
    "            for contr in contours:\n",
    "                ar = cv2.contourArea(contr)\n",
    "                area.append(ar)\n",
    "            print('check {}'.format(area))\n",
    "\n",
    "            sorted_area = sorted(area, key=int, reverse = True)\n",
    "            leaf_area = sorted_area[0] # largest area, plant area by definition\n",
    "            leaf_area_index = area.index(leaf_area) # finding area index \n",
    "            cnt = contours[leaf_area_index] # plant contours, with holes included\n",
    "            cv2.drawContours(closing, [cnt], 0,(255,0,0),-1) # drawing contours with holes included\n",
    "            '''\n",
    "            \n",
    "            if include_holes==1: # Counting all pixels inside the largest area\n",
    "                areas = [] # list\n",
    "                for contour in contours:\n",
    "                    ar = cv2.contourArea(contour)\n",
    "                    areas.append(ar)\n",
    "                print('what is this {}'.format(areas))\n",
    "\n",
    "                sorted_area = sorted(areas, key=int, reverse = True)\n",
    "                leaf_area = sorted_area[0] # largest area, plant area by definition\n",
    "                leaf_area_index = areas.index(leaf_area) # finding area index \n",
    "                cnt = contours[leaf_area_index] # plant contours, with holes included\n",
    "                cv2.drawContours(closing, [cnt], 0,(255,0,0),-1) # drawing contours with holes included\n",
    "            #print('LeafArea: {}'.format(leaf_area))\n",
    "            \n",
    "            if include_holes==0: # Counting all pixels detected\n",
    "                cv2.drawContours(closing, contours, -1, (255, 255, 255), -1) # drawing contours without including holes\n",
    "                leaf_area = (closing > 127).sum() # couting plants pixels\n",
    "            print('LeafArea: {}'.format(leaf_area))\n",
    "            \n",
    "            \n",
    "            # Green leaf index\n",
    "            top = 2*G-R-B\n",
    "            down = 2*G+R+B\n",
    "            down[down == 0] = 1\n",
    "            temp = top/down\n",
    "            print(temp)\n",
    "            print(avg(temp))\n",
    "            scaled = scale_range(temp, 0, 255)\n",
    "            print(scaled)\n",
    "            \n",
    "            # summed green\n",
    "            sg = sum(G)\n",
    "            print(sg)\n",
    "            print(avg(sg))\n",
    "            \n",
    "            # VI_GREEN\n",
    "            top1 = G-R\n",
    "            down1 = G+R\n",
    "            down1[down1 == 0] = 1\n",
    "            temp1 = temp1 = top1/down1\n",
    "            print(temp1)\n",
    "            print(avg(temp1))\n",
    "            scaled1 = scale_range(temp1, 0, 255)\n",
    "            print(scaled1)\n",
    "            \n",
    "            # RED-TO-GREEN\n",
    "            G[G==0] = 255*100\n",
    "            temp2 = R/G\n",
    "            print(temp2)\n",
    "            print(avg(temp2))\n",
    "            scaled2 = scale_range(temp2, 0, 255)\n",
    "            print(scaled2)\n",
    "            \n",
    "            file_names.append(filenames[:-4])\n",
    "            chloro_results.append(chloro)\n",
    "            nitro_results.append(nitro)\n",
    "            leaf_areas.append(leaf_area)\n",
    "            GLF.append(avg(temp))\n",
    "            SGR.append(avg(sg))\n",
    "            VI_GREEN.append(avg(temp1))\n",
    "            RGR.append(avg(temp2))\n",
    "            \n",
    "        return file_names, chloro_results, nitro_results, leaf_areas, GLF, SGR, VI_GREEN, RGR"
   ]
  },
  {
   "cell_type": "code",
   "execution_count": 43,
   "metadata": {
    "collapsed": true
   },
   "outputs": [],
   "source": [
    "def writefile():\n",
    "    with open('my_data.csv','w', newline='') as myfile:\n",
    "        wr = csv.writer(myfile,quoting=csv.QUOTE_ALL)\n",
    "        wr.writerow(['File_ID','chloro_content','nitrogen_content','leaf_area_pixel','GLF','SGR','VI_GREEN','RGR']) # \n",
    "        wr.writerows(zip(f,c,n,la,gl,sg_r,vi,rg_r)) #"
   ]
  },
  {
   "cell_type": "code",
   "execution_count": 44,
   "metadata": {},
   "outputs": [
    {
     "name": "stdout",
     "output_type": "stream",
     "text": [
      "Red Channel mean is: 26.0\n",
      "Green Channel mean is: 30.0\n",
      "Blue Channel mean is: 23.0\n",
      "Chrolophyll content is: 6.0\n",
      "Nitrogen Content is: 0.7457246104835541\n",
      "1961\n",
      "2201\n",
      "LeafArea: 1696323\n",
      "[[ 0.93767239  0.96642368  0.98214032 ...  0.83784279  0.77083747\n",
      "   0.61555319]\n",
      " [ 0.99804729 -1.         -1.         ... -1.         -1.\n",
      "  -1.        ]\n",
      " [ 1.11300185 -1.         -1.         ... -1.         -1.\n",
      "  -1.        ]\n",
      " ...\n",
      " [ 0.2843694   0.28160092  0.29592808 ...  0.09677816  0.06527852\n",
      "   0.08961831]\n",
      " [ 0.28302322  0.2843694   0.29592808 ...  0.08961831  0.06527852\n",
      "   0.10352934]\n",
      " [ 0.31888665  0.31968102  0.32004633 ...  0.07391456  0.07391456\n",
      "   0.07391456]]\n",
      "1.6966535881570073\n",
      "[[0.32924706 0.33413245 0.336803   ... 0.31228413 0.30089866 0.27451294]\n",
      " [0.33950589 0.         0.         ... 0.         0.         0.        ]\n",
      " [0.35903884 0.         0.         ... 0.         0.         0.        ]\n",
      " ...\n",
      " [0.21823857 0.21776815 0.22020261 ... 0.18636328 0.1810109  0.18514669]\n",
      " [0.21800983 0.21823857 0.22020261 ... 0.18514669 0.1810109  0.18751044]\n",
      " [0.2241037  0.22423868 0.22430075 ... 0.18247833 0.18247833 0.18247833]]\n",
      "[133  21  40 ... 243 116  33]\n",
      "129.16447069513856\n",
      "[[ 63.         252.           0.99215686 ...  24.4         10.16666667\n",
      "    2.97560976]\n",
      " [  1.           0.           0.         ...   0.           0.\n",
      "    0.        ]\n",
      " [  1.04979253   0.           0.         ...   0.           0.\n",
      "    0.        ]\n",
      " ...\n",
      " [  3.31578947   3.5          3.37333333 ...   3.21621622   3.60606061\n",
      "    3.30555556]\n",
      " [  3.40540541   3.31578947   3.37333333 ...   3.30555556   3.60606061\n",
      "    3.13157895]\n",
      " [  3.69565217   3.49315068   3.4        ...   3.5          3.5\n",
      "    3.5       ]]\n",
      "0.8403813497802407\n",
      "[[ 63.75       255.           1.00396825 ...  24.69047619  10.28769841\n",
      "    3.01103368]\n",
      " [  1.01190476   0.           0.         ...   0.           0.\n",
      "    0.        ]\n",
      " [  1.06229006   0.           0.         ...   0.           0.\n",
      "    0.        ]\n",
      " ...\n",
      " [  3.35526316   3.54166667   3.41349206 ...   3.2545045    3.6489899\n",
      "    3.34490741]\n",
      " [  3.44594595   3.35526316   3.41349206 ...   3.34490741   3.6489899\n",
      "    3.16885965]\n",
      " [  3.73964803   3.53473581   3.44047619 ...   3.54166667   3.54166667\n",
      "    3.54166667]]\n",
      "[[1.03125    1.03174603 1.02380952 ... 1.09448819 1.08955224 1.07361963]\n",
      " [1.03225806 0.         0.         ... 0.         0.         0.        ]\n",
      " [1.02521008 0.         0.         ... 0.         0.         0.        ]\n",
      " ...\n",
      " [1.11111111 1.11764706 1.08333333 ... 1.64285714 1.75       1.66666667]\n",
      " [1.11428571 1.11111111 1.08333333 ... 1.66666667 1.75       1.62068966]\n",
      " [1.02941176 1.02777778 1.02702703 ... 1.72       1.72       1.72      ]]\n",
      "0.4596642908211257\n",
      "[[108.81465517 108.86699507 108.02955665 ... 115.48737442 114.96654658\n",
      "  113.28538185]\n",
      " [108.92102336   0.           0.         ...   0.           0.\n",
      "    0.        ]\n",
      " [108.1773399    0.           0.         ...   0.           0.\n",
      "    0.        ]\n",
      " ...\n",
      " [117.24137931 117.93103448 114.31034483 ... 173.34975369 184.65517241\n",
      "  175.86206897]\n",
      " [117.57635468 117.24137931 114.31034483 ... 175.86206897 184.65517241\n",
      "  171.01070155]\n",
      " [108.62068966 108.44827586 108.36905871 ... 181.48965517 181.48965517\n",
      "  181.48965517]]\n",
      "Red Channel mean is: 26.0\n",
      "Green Channel mean is: 30.0\n",
      "Blue Channel mean is: 23.0\n",
      "Chrolophyll content is: 6.0\n",
      "Nitrogen Content is: 0.7457246104835541\n",
      "1961\n",
      "2201\n",
      "LeafArea: 1696323\n",
      "[[ 0.93767239  0.96642368  0.98214032 ...  0.83784279  0.77083747\n",
      "   0.61555319]\n",
      " [ 0.99804729 -1.         -1.         ... -1.         -1.\n",
      "  -1.        ]\n",
      " [ 1.11300185 -1.         -1.         ... -1.         -1.\n",
      "  -1.        ]\n",
      " ...\n",
      " [ 0.2843694   0.28160092  0.29592808 ...  0.09677816  0.06527852\n",
      "   0.08961831]\n",
      " [ 0.28302322  0.2843694   0.29592808 ...  0.08961831  0.06527852\n",
      "   0.10352934]\n",
      " [ 0.31888665  0.31968102  0.32004633 ...  0.07391456  0.07391456\n",
      "   0.07391456]]\n",
      "1.6966535881570073\n",
      "[[0.32924706 0.33413245 0.336803   ... 0.31228413 0.30089866 0.27451294]\n",
      " [0.33950589 0.         0.         ... 0.         0.         0.        ]\n",
      " [0.35903884 0.         0.         ... 0.         0.         0.        ]\n",
      " ...\n",
      " [0.21823857 0.21776815 0.22020261 ... 0.18636328 0.1810109  0.18514669]\n",
      " [0.21800983 0.21823857 0.22020261 ... 0.18514669 0.1810109  0.18751044]\n",
      " [0.2241037  0.22423868 0.22430075 ... 0.18247833 0.18247833 0.18247833]]\n",
      "[133  21  40 ... 243 116  33]\n",
      "129.16447069513856\n",
      "[[ 63.         252.           0.99215686 ...  24.4         10.16666667\n",
      "    2.97560976]\n",
      " [  1.           0.           0.         ...   0.           0.\n",
      "    0.        ]\n",
      " [  1.04979253   0.           0.         ...   0.           0.\n",
      "    0.        ]\n",
      " ...\n",
      " [  3.31578947   3.5          3.37333333 ...   3.21621622   3.60606061\n",
      "    3.30555556]\n",
      " [  3.40540541   3.31578947   3.37333333 ...   3.30555556   3.60606061\n",
      "    3.13157895]\n",
      " [  3.69565217   3.49315068   3.4        ...   3.5          3.5\n",
      "    3.5       ]]\n",
      "0.8403813497802407\n",
      "[[ 63.75       255.           1.00396825 ...  24.69047619  10.28769841\n",
      "    3.01103368]\n",
      " [  1.01190476   0.           0.         ...   0.           0.\n",
      "    0.        ]\n",
      " [  1.06229006   0.           0.         ...   0.           0.\n",
      "    0.        ]\n",
      " ...\n",
      " [  3.35526316   3.54166667   3.41349206 ...   3.2545045    3.6489899\n",
      "    3.34490741]\n",
      " [  3.44594595   3.35526316   3.41349206 ...   3.34490741   3.6489899\n",
      "    3.16885965]\n",
      " [  3.73964803   3.53473581   3.44047619 ...   3.54166667   3.54166667\n",
      "    3.54166667]]\n",
      "[[1.03125    1.03174603 1.02380952 ... 1.09448819 1.08955224 1.07361963]\n",
      " [1.03225806 0.         0.         ... 0.         0.         0.        ]\n",
      " [1.02521008 0.         0.         ... 0.         0.         0.        ]\n",
      " ...\n",
      " [1.11111111 1.11764706 1.08333333 ... 1.64285714 1.75       1.66666667]\n",
      " [1.11428571 1.11111111 1.08333333 ... 1.66666667 1.75       1.62068966]\n",
      " [1.02941176 1.02777778 1.02702703 ... 1.72       1.72       1.72      ]]\n",
      "0.4596642908211257\n",
      "[[108.81465517 108.86699507 108.02955665 ... 115.48737442 114.96654658\n",
      "  113.28538185]\n",
      " [108.92102336   0.           0.         ...   0.           0.\n",
      "    0.        ]\n",
      " [108.1773399    0.           0.         ...   0.           0.\n",
      "    0.        ]\n",
      " ...\n",
      " [117.24137931 117.93103448 114.31034483 ... 173.34975369 184.65517241\n",
      "  175.86206897]\n",
      " [117.57635468 117.24137931 114.31034483 ... 175.86206897 184.65517241\n",
      "  171.01070155]\n",
      " [108.62068966 108.44827586 108.36905871 ... 181.48965517 181.48965517\n",
      "  181.48965517]]\n",
      "Filename: ['1', '2'] Chloro_result: [5.59345144910025, 5.59345144910025] nitro_result: [0.7457246104835541, 0.7457246104835541] LeafArea: [1696323, 1696323] GreenLeafIndex: [0.45821227306154644, 0.45821227306154644]  SummedGreenReflectance: [129.16447069513856, 129.16447069513856]  Vigreen: [0.8503858896585774, 0.8503858896585774]  RedGreenRatio: [48.50250792802222, 48.50250792802222]\n"
     ]
    }
   ],
   "source": [
    "if __name__ ==\"__main__\":\n",
    "    include_holes = 1 # highest area (lettuce in field)\n",
    "    include_holes = 0 # counting white pixels (other cases)\n",
    "    f,c,n,la,gl,sg_r,vi,rg_r = read_files() #\n",
    "    print('Filename: {} Chloro_result: {} nitro_result: {} LeafArea: {} GreenLeafIndex: {}  SummedGreenReflectance: {}  Vigreen: {}  RedGreenRatio: {}' .format(f,c,n,la,gl,sg_r,vi,rg_r))\n",
    "    writefile()"
   ]
  },
  {
   "cell_type": "code",
   "execution_count": 3,
   "metadata": {},
   "outputs": [],
   "source": [
    "def green_leaf_index(r,g,b):\n",
    "    top = 2*g-r-b\n",
    "    down = 2*g+r+b\n",
    "    down[down == 0] = 1\n",
    "    temp = top/down\n",
    "    scaled = scale_range(temp, 0, 255)\n",
    "    return temp, scaled"
   ]
  },
  {
   "cell_type": "code",
   "execution_count": 4,
   "metadata": {
    "collapsed": true
   },
   "outputs": [],
   "source": [
    "def summed_green_reflectance(g):\n",
    "    return sum(g)"
   ]
  },
  {
   "cell_type": "code",
   "execution_count": 5,
   "metadata": {
    "collapsed": true
   },
   "outputs": [],
   "source": [
    "def vi_green(g,r):\n",
    "    top = g-r\n",
    "    down = g+r\n",
    "    down[down == 0] = 1\n",
    "    temp = temp = top/down\n",
    "    scaled = scale_range(temp, 0, 255)\n",
    "    return temp, scaled"
   ]
  },
  {
   "cell_type": "code",
   "execution_count": 6,
   "metadata": {
    "collapsed": true
   },
   "outputs": [],
   "source": [
    "def red_to_green_ratio(g,r):\n",
    "    g[g==0] = 255*100\n",
    "    scaled = scale_range(r/g, 0, 255)\n",
    "    return r/g, np.array(scaled, dtype = np.uint8 )"
   ]
  },
  {
   "cell_type": "code",
   "execution_count": 7,
   "metadata": {
    "collapsed": true
   },
   "outputs": [],
   "source": [
    "def carotenoid_reflectance_index(g):\n",
    "    range_500"
   ]
  },
  {
   "cell_type": "code",
   "execution_count": 8,
   "metadata": {
    "collapsed": true
   },
   "outputs": [],
   "source": [
    "def split_rgb(img):\n",
    "    red = img[:,:,2]\n",
    "    green = img[:,:,1]\n",
    "    blue = img[:,:,0]\n",
    "    return red, green, blue"
   ]
  },
  {
   "cell_type": "code",
   "execution_count": 9,
   "metadata": {
    "collapsed": true
   },
   "outputs": [],
   "source": [
    "def read_image(name):\n",
    "    image = cv2.imread(name)\n",
    "    return image"
   ]
  },
  {
   "cell_type": "code",
   "execution_count": 10,
   "metadata": {
    "collapsed": true
   },
   "outputs": [],
   "source": [
    "def avg(arr):\n",
    "    return np.average(arr)"
   ]
  },
  {
   "cell_type": "code",
   "execution_count": 11,
   "metadata": {
    "collapsed": true
   },
   "outputs": [],
   "source": [
    "def display(img):\n",
    "    cv2.imshow(\"\", img)\n",
    "    cv2.waitKey(0)\n",
    "    cv2.destroyAllWindows()"
   ]
  },
  {
   "cell_type": "code",
   "execution_count": 12,
   "metadata": {
    "collapsed": true
   },
   "outputs": [],
   "source": [
    "# calculating vegetation indexes\n",
    "\n",
    "r,g,b = split_rgb(read_image(\"1.png\"))"
   ]
  },
  {
   "cell_type": "code",
   "execution_count": 13,
   "metadata": {},
   "outputs": [
    {
     "name": "stdout",
     "output_type": "stream",
     "text": [
      "[[1.11904762e+01 1.80769231e+01 1.96666667e+01 ... 1.04545455e+01\n",
      "  4.60000000e+00 1.38554217e+00]\n",
      " [4.70000000e+01 1.38235294e+01 7.37500000e+00 ... 3.10810811e+00\n",
      "  2.67441860e+00 1.76923077e+00]\n",
      " [9.83333333e-01 1.96666667e+01 5.90000000e+00 ... 2.16981132e+00\n",
      "  2.80487805e+00 2.94871795e+00]\n",
      " ...\n",
      " [1.75862069e+00 1.86131387e+00 1.40845070e-02 ... 2.11864407e+00\n",
      "  2.45098039e+00 2.19298246e+00]\n",
      " [1.80851064e+00 1.75862069e+00 1.40845070e-02 ... 2.19298246e+00\n",
      "  2.45098039e+00 2.04918033e+00]\n",
      " [2.25563910e-02 2.12765957e-02 2.06896552e-02 ... 2.35849057e+00\n",
      "  2.35849057e+00 2.35849057e+00]]\n",
      "3.5102587226755\n"
     ]
    }
   ],
   "source": [
    "glf, scaled_glf = green_leaf_index(r,g,b)\n",
    "print(glf)\n",
    "print(avg(glf))\n",
    "#print(scaled_glf)"
   ]
  },
  {
   "cell_type": "code",
   "execution_count": 14,
   "metadata": {},
   "outputs": [
    {
     "name": "stdout",
     "output_type": "stream",
     "text": [
      "3.607743083805034\n"
     ]
    }
   ],
   "source": [
    "VIgreen, VIgreen_scaled = vi_green(g,r)\n",
    "print(avg(VIgreen))"
   ]
  },
  {
   "cell_type": "code",
   "execution_count": 15,
   "metadata": {},
   "outputs": [
    {
     "name": "stdout",
     "output_type": "stream",
     "text": [
      "1.1838327778758573\n"
     ]
    }
   ],
   "source": [
    "r_to_g, r_to_g_scaled = red_to_green_ratio(r, g)\n",
    "print(avg(r_to_g))"
   ]
  },
  {
   "cell_type": "code",
   "execution_count": 16,
   "metadata": {},
   "outputs": [
    {
     "name": "stdout",
     "output_type": "stream",
     "text": [
      "128.22716946842345\n"
     ]
    }
   ],
   "source": [
    "sgr = summed_green_reflectance(g)\n",
    "print(avg(sgr))"
   ]
  }
 ],
 "metadata": {
  "anaconda-cloud": {},
  "kernelspec": {
   "display_name": "Python 3",
   "language": "python",
   "name": "python3"
  },
  "language_info": {
   "codemirror_mode": {
    "name": "ipython",
    "version": 3
   },
   "file_extension": ".py",
   "mimetype": "text/x-python",
   "name": "python",
   "nbconvert_exporter": "python",
   "pygments_lexer": "ipython3",
   "version": "3.6.5"
  }
 },
 "nbformat": 4,
 "nbformat_minor": 1
}
