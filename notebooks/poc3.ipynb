{
 "cells": [
  {
   "cell_type": "code",
   "execution_count": 18,
   "metadata": {
    "collapsed": true
   },
   "outputs": [],
   "source": [
    "import cv2\n",
    "import numpy as np"
   ]
  },
  {
   "cell_type": "code",
   "execution_count": 19,
   "metadata": {
    "collapsed": true
   },
   "outputs": [],
   "source": [
    "def scale_range(input, min, max):\n",
    "    input += -(np.min(input))\n",
    "    input /= np.max(input) / (max - min)\n",
    "    input += min\n",
    "    return input"
   ]
  },
  {
   "cell_type": "code",
   "execution_count": 20,
   "metadata": {},
   "outputs": [],
   "source": [
    "def green_leaf_index(r,g,b):\n",
    "    top = 2*g-r-b\n",
    "    down = 2*g+r+b\n",
    "    down[down == 0] = 1\n",
    "    temp = top/down\n",
    "    scaled = scale_range(temp, 0, 255)\n",
    "    return temp, scaled"
   ]
  },
  {
   "cell_type": "code",
   "execution_count": 21,
   "metadata": {
    "collapsed": true
   },
   "outputs": [],
   "source": [
    "def summed_green_reflectance(g):\n",
    "    return sum(g)"
   ]
  },
  {
   "cell_type": "code",
   "execution_count": 22,
   "metadata": {
    "collapsed": true
   },
   "outputs": [],
   "source": [
    "def vi_green(g,r):\n",
    "    top = g-r\n",
    "    down = g+r\n",
    "    down[down == 0] = 1\n",
    "    temp = temp = top/down\n",
    "    scaled = scale_range(temp, 0, 255)\n",
    "    return temp, scaled"
   ]
  },
  {
   "cell_type": "code",
   "execution_count": 23,
   "metadata": {
    "collapsed": true
   },
   "outputs": [],
   "source": [
    "def red_to_green_ratio(g,r):\n",
    "    g[g==0] = 255*100\n",
    "    scaled = scale_range(r/g, 0, 255)\n",
    "    return r/g, np.array(scaled, dtype = np.uint8 )"
   ]
  },
  {
   "cell_type": "code",
   "execution_count": 24,
   "metadata": {
    "collapsed": true
   },
   "outputs": [],
   "source": [
    "def carotenoid_reflectance_index(g):\n",
    "    range_500"
   ]
  },
  {
   "cell_type": "code",
   "execution_count": 25,
   "metadata": {
    "collapsed": true
   },
   "outputs": [],
   "source": [
    "def split_rgb(img):\n",
    "    red = img[:,:,2]\n",
    "    green = img[:,:,1]\n",
    "    blue = img[:,:,0]\n",
    "    return red, green, blue"
   ]
  },
  {
   "cell_type": "code",
   "execution_count": 26,
   "metadata": {
    "collapsed": true
   },
   "outputs": [],
   "source": [
    "def read_image(name):\n",
    "    image = cv2.imread(name)\n",
    "    return image"
   ]
  },
  {
   "cell_type": "code",
   "execution_count": 27,
   "metadata": {
    "collapsed": true
   },
   "outputs": [],
   "source": [
    "def avg(arr):\n",
    "    return np.average(arr)"
   ]
  },
  {
   "cell_type": "code",
   "execution_count": 28,
   "metadata": {
    "collapsed": true
   },
   "outputs": [],
   "source": [
    "def display(img):\n",
    "    cv2.imshow(\"\", img)\n",
    "    cv2.waitKey(0)\n",
    "    cv2.destroyAllWindows()"
   ]
  },
  {
   "cell_type": "code",
   "execution_count": 29,
   "metadata": {
    "collapsed": true
   },
   "outputs": [],
   "source": [
    "# calculating vegetation indexes\n",
    "\n",
    "r,g,b = split_rgb(read_image(\"1.png\"))"
   ]
  },
  {
   "cell_type": "code",
   "execution_count": 30,
   "metadata": {},
   "outputs": [
    {
     "name": "stdout",
     "output_type": "stream",
     "text": [
      "3.5102587226755\n",
      "[[1.11904762e+01 1.80769231e+01 1.96666667e+01 ... 1.04545455e+01\n",
      "  4.60000000e+00 1.38554217e+00]\n",
      " [4.70000000e+01 1.38235294e+01 7.37500000e+00 ... 3.10810811e+00\n",
      "  2.67441860e+00 1.76923077e+00]\n",
      " [9.83333333e-01 1.96666667e+01 5.90000000e+00 ... 2.16981132e+00\n",
      "  2.80487805e+00 2.94871795e+00]\n",
      " ...\n",
      " [1.75862069e+00 1.86131387e+00 1.40845070e-02 ... 2.11864407e+00\n",
      "  2.45098039e+00 2.19298246e+00]\n",
      " [1.80851064e+00 1.75862069e+00 1.40845070e-02 ... 2.19298246e+00\n",
      "  2.45098039e+00 2.04918033e+00]\n",
      " [2.25563910e-02 2.12765957e-02 2.06896552e-02 ... 2.35849057e+00\n",
      "  2.35849057e+00 2.35849057e+00]]\n"
     ]
    }
   ],
   "source": [
    "glf, scaled_glf = green_leaf_index(r,g,b)\n",
    "#print(glf)\n",
    "print(avg(glf))\n",
    "print(scaled_glf)"
   ]
  },
  {
   "cell_type": "code",
   "execution_count": 14,
   "metadata": {},
   "outputs": [
    {
     "name": "stdout",
     "output_type": "stream",
     "text": [
      "3.607743083805034\n"
     ]
    }
   ],
   "source": [
    "VIgreen, VIgreen_scaled = vi_green(g,r)\n",
    "print(avg(VIgreen))"
   ]
  },
  {
   "cell_type": "code",
   "execution_count": 15,
   "metadata": {},
   "outputs": [
    {
     "name": "stdout",
     "output_type": "stream",
     "text": [
      "1.1838327778758573\n"
     ]
    }
   ],
   "source": [
    "r_to_g, r_to_g_scaled = red_to_green_ratio(r, g)\n",
    "print(avg(r_to_g))"
   ]
  },
  {
   "cell_type": "code",
   "execution_count": 16,
   "metadata": {},
   "outputs": [
    {
     "name": "stdout",
     "output_type": "stream",
     "text": [
      "128.22716946842345\n"
     ]
    }
   ],
   "source": [
    "sgr = summed_green_reflectance(g)\n",
    "print(avg(sgr))"
   ]
  },
  {
   "cell_type": "code",
   "execution_count": null,
   "metadata": {
    "collapsed": true
   },
   "outputs": [],
   "source": []
  }
 ],
 "metadata": {
  "anaconda-cloud": {},
  "kernelspec": {
   "display_name": "Python 3",
   "language": "python",
   "name": "python3"
  },
  "language_info": {
   "codemirror_mode": {
    "name": "ipython",
    "version": 3
   },
   "file_extension": ".py",
   "mimetype": "text/x-python",
   "name": "python",
   "nbconvert_exporter": "python",
   "pygments_lexer": "ipython3",
   "version": "3.6.5"
  }
 },
 "nbformat": 4,
 "nbformat_minor": 1
}
